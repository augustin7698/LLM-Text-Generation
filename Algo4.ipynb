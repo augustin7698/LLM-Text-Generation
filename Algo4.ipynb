{
  "cells": [
    {
      "cell_type": "markdown",
      "metadata": {
        "id": "3z4JHBXmN4kh"
      },
      "source": [
        "### Import libraries"
      ]
    },
    {
      "cell_type": "code",
      "execution_count": 60,
      "metadata": {
        "colab": {
          "base_uri": "https://localhost:8080/"
        },
        "id": "VEUlSa3cN4lU",
        "outputId": "9c3279ba-93b9-43b7-ba06-306368be30db"
      },
      "outputs": [],
      "source": [
        "import tensorflow as tf\n",
        "import numpy as np\n",
        "import os\n",
        "import matplotlib.pyplot as plt"
      ]
    },
    {
      "attachments": {},
      "cell_type": "markdown",
      "metadata": {
        "id": "oOuW1BarN4lq"
      },
      "source": [
        "### Load Data"
      ]
    },
    {
      "cell_type": "code",
      "execution_count": 69,
      "metadata": {},
      "outputs": [],
      "source": [
        "def load_dataset(files, text = ''):\n",
        "     # Load text from files\n",
        "     for file in files:\n",
        "          text += open(file, 'rb').read().decode(encoding='UTF-8')\n",
        "     # Create a sorted list of unique characters\n",
        "     vocab = sorted(set(text))\n",
        "     print('Text length:', len(text), 'Unique characters:', len(vocab))\n",
        "     return text, vocab\n",
        "\n",
        "def split_input_target(chunk):\n",
        "     # Split the text into input and target\n",
        "     input_text = chunk[:-1]\n",
        "     target_text = chunk[1:]\n",
        "     return input_text, target_text"
      ]
    },
    {
      "cell_type": "code",
      "execution_count": 70,
      "metadata": {
        "colab": {
          "base_uri": "https://localhost:8080/"
        },
        "id": "K09_Kj8cN4mE",
        "outputId": "7dc518e3-29fc-4358-a57f-34991eae60cb"
      },
      "outputs": [
        {
          "name": "stdout",
          "output_type": "stream",
          "text": [
            "Text length: 1060629 Unique characters: 89\n"
          ]
        }
      ],
      "source": [
        "text, vocab = load_dataset(['mmebovary.txt', 'thebluecastle.txt'])"
      ]
    },
    {
      "cell_type": "markdown",
      "metadata": {
        "id": "SQo80NZHN4mT"
      },
      "source": [
        "### Preprocessing"
      ]
    },
    {
      "cell_type": "code",
      "execution_count": 72,
      "metadata": {
        "id": "uF_GRN82N4mV"
      },
      "outputs": [],
      "source": [
        "# Create a mapping from characters to numbers and vice versa\n",
        "ids_from_chars = tf.keras.layers.StringLookup(\n",
        "     vocabulary = list(vocab), mask_token = None\n",
        ")\n",
        "chars_from_ids = tf.keras.layers.StringLookup(\n",
        "     vocabulary = ids_from_chars.get_vocabulary(), invert = True, mask_token = None\n",
        ")\n",
        "\n",
        "# create sequences\n",
        "seq_length = 100\n",
        "sequences = tf.data.Dataset.from_tensor_slices(\n",
        "     ids_from_chars(tf.strings.unicode_split(text, 'UTF-8'))\n",
        ").batch(seq_length+1, drop_remainder=True)\n",
        "\n",
        "\n",
        "# Create a dataset of sequences\n",
        "dataset = (\n",
        "     sequences.map(split_input_target)\n",
        "     .shuffle(10000)\n",
        "     .batch(64, drop_remainder=True)\n",
        "     .prefetch(tf.data.experimental.AUTOTUNE)\n",
        ")"
      ]
    },
    {
      "cell_type": "markdown",
      "metadata": {
        "id": "T34ZHMeUN4mb"
      },
      "source": [
        "### Model"
      ]
    },
    {
      "cell_type": "code",
      "execution_count": 73,
      "metadata": {
        "colab": {
          "base_uri": "https://localhost:8080/"
        },
        "id": "bZ0_CglEN4mc",
        "outputId": "9aa8834d-5b34-40fa-d514-08b596d3a192"
      },
      "outputs": [
        {
          "name": "stdout",
          "output_type": "stream",
          "text": [
            "Model: \"sequential_4\"\n",
            "_________________________________________________________________\n",
            " Layer (type)                Output Shape              Param #   \n",
            "=================================================================\n",
            " embedding_4 (Embedding)     (64, None, 256)           23040     \n",
            "                                                                 \n",
            " gru_4 (GRU)                 (64, None, 1024)          3938304   \n",
            "                                                                 \n",
            " dense_4 (Dense)             (64, None, 90)            92250     \n",
            "                                                                 \n",
            "=================================================================\n",
            "Total params: 4,053,594\n",
            "Trainable params: 4,053,594\n",
            "Non-trainable params: 0\n",
            "_________________________________________________________________\n"
          ]
        }
      ],
      "source": [
        "# Build the model\n",
        "model = tf.keras.Sequential([\n",
        "     tf.keras.layers.Embedding(len(ids_from_chars.get_vocabulary()), 256, batch_input_shape=[64, None]),\n",
        "     tf.keras.layers.GRU(1024, return_sequences=True, stateful=True, recurrent_initializer='glorot_uniform'),\n",
        "     tf.keras.layers.Dense(len(ids_from_chars.get_vocabulary()))\n",
        "])\n",
        "\n",
        "# Compile the model\n",
        "model.compile(\n",
        "     optimizer='adam',\n",
        "     loss=tf.losses.SparseCategoricalCrossentropy(from_logits = True),\n",
        "     metrics=['accuracy']\n",
        ")\n",
        "\n",
        "history = {\n",
        "     'loss': [],\n",
        "     'accuracy': []\n",
        "}\n",
        "\n",
        "model.summary()"
      ]
    },
    {
      "cell_type": "markdown",
      "metadata": {
        "id": "oBhAStXQN4me"
      },
      "source": [
        "### Train & Save the model"
      ]
    },
    {
      "cell_type": "code",
      "execution_count": null,
      "metadata": {
        "colab": {
          "base_uri": "https://localhost:8080/"
        },
        "id": "5VIlgHODN4ml",
        "outputId": "8777f07f-e673-48a3-9ba1-0be76a31a676"
      },
      "outputs": [],
      "source": [
        "# load model\n",
        "model.load_weights('params/model.h5')\n",
        "model.summary()"
      ]
    },
    {
      "cell_type": "code",
      "execution_count": null,
      "metadata": {
        "colab": {
          "base_uri": "https://localhost:8080/",
          "height": 944
        },
        "id": "_AY9lzkAN4mx",
        "outputId": "9a4d4d5a-5036-45cc-e959-8e45623dda5e"
      },
      "outputs": [],
      "source": [
        "modelLink = \"model.h5\"\n",
        "\n",
        "\n",
        "model.fit(dataset, epochs=1)\n",
        "model.save_weights(modelLink)\n",
        "\n",
        "for i in range(len(model.history.history[\"loss\"])):\n",
        "     history[\"loss\"].append(model.history.history[\"loss\"][i])\n",
        "     history[\"accuracy\"].append(model.history.history[\"accuracy\"][i])\n",
        "\n",
        "\n",
        "# afficher l'evolution de l'apprentissage\n",
        "plt.plot(history[\"accuracy\"])\n",
        "\n",
        "plt.legend(['train accuracy'], loc='lower left')\n",
        "plt.title('accuracy')\n",
        "\n",
        "plt.xlabel('epoch')\n",
        "plt.ylabel('accuracy')\n",
        "plt.ylim(0, 1)\n",
        "\n",
        "# ligne au verticale au point de changement de dataset\n",
        "plt.axvline(len(history[\"loss\"]) - len(model.history.history[\"loss\"]) - 1, color='r', linestyle='--')\n",
        "plt.show()\n",
        "\n",
        "# afficher l'evolution de la perte\n",
        "plt.plot(history[\"loss\"])\n",
        "\n",
        "plt.legend(['train loss'], loc='upper left')\n",
        "plt.title('loss')\n",
        "\n",
        "plt.xlabel('epoch')\n",
        "plt.ylabel('loss')\n",
        "\n",
        "# ligne au verticale au point de changement de dataset\n",
        "plt.axvline(len(history[\"loss\"]) - len(model.history.history[\"loss\"]) - 1, color='r', linestyle ='--')\n",
        "plt.show()"
      ]
    },
    {
      "cell_type": "markdown",
      "metadata": {
        "id": "JWaAvlbMN4nF"
      },
      "source": [
        "### Predict"
      ]
    },
    {
      "cell_type": "code",
      "execution_count": 35,
      "metadata": {},
      "outputs": [],
      "source": [
        "def predict(text):\n",
        "     # Convert the text to numbers\n",
        "     input_eval = [ids_from_chars(v) for v in text]\n",
        "     input_eval = tf.expand_dims(input_eval, 0)\n",
        "     # Predict the next character\n",
        "     res = model.predict(input_eval)\n",
        "     res = tf.argmax(res[0], axis=1).numpy()\n",
        "     res = chars_from_ids(res).numpy()\n",
        "     return res[len(res)-1].decode(\"utf-8\")"
      ]
    },
    {
      "cell_type": "code",
      "execution_count": null,
      "metadata": {},
      "outputs": [],
      "source": [
        "initial_text = \"The men\"\n",
        "textLen = len(initial_text)"
      ]
    },
    {
      "cell_type": "code",
      "execution_count": null,
      "metadata": {
        "colab": {
          "base_uri": "https://localhost:8080/"
        },
        "id": "2R4WgyV0N4nZ",
        "outputId": "9c55d65f-c12f-429b-db50-0c998f98ca68"
      },
      "outputs": [],
      "source": [
        "# Generate x characters\n",
        "for i in range(100):\n",
        "     pred = predict(initial_text[-textLen:])\n",
        "     initial_text += pred"
      ]
    },
    {
      "cell_type": "code",
      "execution_count": null,
      "metadata": {},
      "outputs": [],
      "source": [
        "print(initial_text)"
      ]
    }
  ],
  "metadata": {
    "colab": {
      "provenance": []
    },
    "kernelspec": {
      "display_name": "Python 3",
      "language": "python",
      "name": "python3"
    },
    "language_info": {
      "codemirror_mode": {
        "name": "ipython",
        "version": 3
      },
      "file_extension": ".py",
      "mimetype": "text/x-python",
      "name": "python",
      "nbconvert_exporter": "python",
      "pygments_lexer": "ipython3",
      "version": "3.11.1"
    }
  },
  "nbformat": 4,
  "nbformat_minor": 0
}
